{
  "nbformat": 4,
  "nbformat_minor": 0,
  "metadata": {
    "colab": {
      "provenance": []
    },
    "kernelspec": {
      "name": "python3",
      "display_name": "Python 3"
    },
    "language_info": {
      "name": "python"
    }
  },
  "cells": [
    {
      "cell_type": "code",
      "execution_count": null,
      "metadata": {
        "id": "FkZHtVWlcEyt"
      },
      "outputs": [],
      "source": [
        "import pandas as pd\n",
        "df=pd.read_csv('/content/dataset.tsv',sep='\\t')"
      ]
    },
    {
      "cell_type": "code",
      "source": [
        "df.head(5)"
      ],
      "metadata": {
        "colab": {
          "base_uri": "https://localhost:8080/",
          "height": 206
        },
        "id": "6ANDpEXXcihg",
        "outputId": "0c2372a2-f16e-4b7d-ef5d-4b3492651cff"
      },
      "execution_count": null,
      "outputs": [
        {
          "output_type": "execute_result",
          "data": {
            "text/plain": [
              "   page_id                                               text  label  \\\n",
              "0     1012            FLASH SALE | LIMITED TIME ONLY Shop Now      1   \n",
              "1      158                                Pillowcases & Shams      0   \n",
              "2      108                                     Write a review      0   \n",
              "3     1425  To start your return, simply click on the foll...      0   \n",
              "4     1658                newsletter signup (privacy policy)       0   \n",
              "\n",
              "   Pattern Category  \n",
              "0           Urgency  \n",
              "1  Not Dark Pattern  \n",
              "2  Not Dark Pattern  \n",
              "3  Not Dark Pattern  \n",
              "4  Not Dark Pattern  "
            ],
            "text/html": [
              "\n",
              "  <div id=\"df-6e09dd06-5fe3-4491-8767-58f7935ebf07\" class=\"colab-df-container\">\n",
              "    <div>\n",
              "<style scoped>\n",
              "    .dataframe tbody tr th:only-of-type {\n",
              "        vertical-align: middle;\n",
              "    }\n",
              "\n",
              "    .dataframe tbody tr th {\n",
              "        vertical-align: top;\n",
              "    }\n",
              "\n",
              "    .dataframe thead th {\n",
              "        text-align: right;\n",
              "    }\n",
              "</style>\n",
              "<table border=\"1\" class=\"dataframe\">\n",
              "  <thead>\n",
              "    <tr style=\"text-align: right;\">\n",
              "      <th></th>\n",
              "      <th>page_id</th>\n",
              "      <th>text</th>\n",
              "      <th>label</th>\n",
              "      <th>Pattern Category</th>\n",
              "    </tr>\n",
              "  </thead>\n",
              "  <tbody>\n",
              "    <tr>\n",
              "      <th>0</th>\n",
              "      <td>1012</td>\n",
              "      <td>FLASH SALE | LIMITED TIME ONLY Shop Now</td>\n",
              "      <td>1</td>\n",
              "      <td>Urgency</td>\n",
              "    </tr>\n",
              "    <tr>\n",
              "      <th>1</th>\n",
              "      <td>158</td>\n",
              "      <td>Pillowcases &amp; Shams</td>\n",
              "      <td>0</td>\n",
              "      <td>Not Dark Pattern</td>\n",
              "    </tr>\n",
              "    <tr>\n",
              "      <th>2</th>\n",
              "      <td>108</td>\n",
              "      <td>Write a review</td>\n",
              "      <td>0</td>\n",
              "      <td>Not Dark Pattern</td>\n",
              "    </tr>\n",
              "    <tr>\n",
              "      <th>3</th>\n",
              "      <td>1425</td>\n",
              "      <td>To start your return, simply click on the foll...</td>\n",
              "      <td>0</td>\n",
              "      <td>Not Dark Pattern</td>\n",
              "    </tr>\n",
              "    <tr>\n",
              "      <th>4</th>\n",
              "      <td>1658</td>\n",
              "      <td>newsletter signup (privacy policy)</td>\n",
              "      <td>0</td>\n",
              "      <td>Not Dark Pattern</td>\n",
              "    </tr>\n",
              "  </tbody>\n",
              "</table>\n",
              "</div>\n",
              "    <div class=\"colab-df-buttons\">\n",
              "\n",
              "  <div class=\"colab-df-container\">\n",
              "    <button class=\"colab-df-convert\" onclick=\"convertToInteractive('df-6e09dd06-5fe3-4491-8767-58f7935ebf07')\"\n",
              "            title=\"Convert this dataframe to an interactive table.\"\n",
              "            style=\"display:none;\">\n",
              "\n",
              "  <svg xmlns=\"http://www.w3.org/2000/svg\" height=\"24px\" viewBox=\"0 -960 960 960\">\n",
              "    <path d=\"M120-120v-720h720v720H120Zm60-500h600v-160H180v160Zm220 220h160v-160H400v160Zm0 220h160v-160H400v160ZM180-400h160v-160H180v160Zm440 0h160v-160H620v160ZM180-180h160v-160H180v160Zm440 0h160v-160H620v160Z\"/>\n",
              "  </svg>\n",
              "    </button>\n",
              "\n",
              "  <style>\n",
              "    .colab-df-container {\n",
              "      display:flex;\n",
              "      gap: 12px;\n",
              "    }\n",
              "\n",
              "    .colab-df-convert {\n",
              "      background-color: #E8F0FE;\n",
              "      border: none;\n",
              "      border-radius: 50%;\n",
              "      cursor: pointer;\n",
              "      display: none;\n",
              "      fill: #1967D2;\n",
              "      height: 32px;\n",
              "      padding: 0 0 0 0;\n",
              "      width: 32px;\n",
              "    }\n",
              "\n",
              "    .colab-df-convert:hover {\n",
              "      background-color: #E2EBFA;\n",
              "      box-shadow: 0px 1px 2px rgba(60, 64, 67, 0.3), 0px 1px 3px 1px rgba(60, 64, 67, 0.15);\n",
              "      fill: #174EA6;\n",
              "    }\n",
              "\n",
              "    .colab-df-buttons div {\n",
              "      margin-bottom: 4px;\n",
              "    }\n",
              "\n",
              "    [theme=dark] .colab-df-convert {\n",
              "      background-color: #3B4455;\n",
              "      fill: #D2E3FC;\n",
              "    }\n",
              "\n",
              "    [theme=dark] .colab-df-convert:hover {\n",
              "      background-color: #434B5C;\n",
              "      box-shadow: 0px 1px 3px 1px rgba(0, 0, 0, 0.15);\n",
              "      filter: drop-shadow(0px 1px 2px rgba(0, 0, 0, 0.3));\n",
              "      fill: #FFFFFF;\n",
              "    }\n",
              "  </style>\n",
              "\n",
              "    <script>\n",
              "      const buttonEl =\n",
              "        document.querySelector('#df-6e09dd06-5fe3-4491-8767-58f7935ebf07 button.colab-df-convert');\n",
              "      buttonEl.style.display =\n",
              "        google.colab.kernel.accessAllowed ? 'block' : 'none';\n",
              "\n",
              "      async function convertToInteractive(key) {\n",
              "        const element = document.querySelector('#df-6e09dd06-5fe3-4491-8767-58f7935ebf07');\n",
              "        const dataTable =\n",
              "          await google.colab.kernel.invokeFunction('convertToInteractive',\n",
              "                                                    [key], {});\n",
              "        if (!dataTable) return;\n",
              "\n",
              "        const docLinkHtml = 'Like what you see? Visit the ' +\n",
              "          '<a target=\"_blank\" href=https://colab.research.google.com/notebooks/data_table.ipynb>data table notebook</a>'\n",
              "          + ' to learn more about interactive tables.';\n",
              "        element.innerHTML = '';\n",
              "        dataTable['output_type'] = 'display_data';\n",
              "        await google.colab.output.renderOutput(dataTable, element);\n",
              "        const docLink = document.createElement('div');\n",
              "        docLink.innerHTML = docLinkHtml;\n",
              "        element.appendChild(docLink);\n",
              "      }\n",
              "    </script>\n",
              "  </div>\n",
              "\n",
              "\n",
              "<div id=\"df-517509a9-354f-48f6-a766-d25c328b34d4\">\n",
              "  <button class=\"colab-df-quickchart\" onclick=\"quickchart('df-517509a9-354f-48f6-a766-d25c328b34d4')\"\n",
              "            title=\"Suggest charts\"\n",
              "            style=\"display:none;\">\n",
              "\n",
              "<svg xmlns=\"http://www.w3.org/2000/svg\" height=\"24px\"viewBox=\"0 0 24 24\"\n",
              "     width=\"24px\">\n",
              "    <g>\n",
              "        <path d=\"M19 3H5c-1.1 0-2 .9-2 2v14c0 1.1.9 2 2 2h14c1.1 0 2-.9 2-2V5c0-1.1-.9-2-2-2zM9 17H7v-7h2v7zm4 0h-2V7h2v10zm4 0h-2v-4h2v4z\"/>\n",
              "    </g>\n",
              "</svg>\n",
              "  </button>\n",
              "\n",
              "<style>\n",
              "  .colab-df-quickchart {\n",
              "      --bg-color: #E8F0FE;\n",
              "      --fill-color: #1967D2;\n",
              "      --hover-bg-color: #E2EBFA;\n",
              "      --hover-fill-color: #174EA6;\n",
              "      --disabled-fill-color: #AAA;\n",
              "      --disabled-bg-color: #DDD;\n",
              "  }\n",
              "\n",
              "  [theme=dark] .colab-df-quickchart {\n",
              "      --bg-color: #3B4455;\n",
              "      --fill-color: #D2E3FC;\n",
              "      --hover-bg-color: #434B5C;\n",
              "      --hover-fill-color: #FFFFFF;\n",
              "      --disabled-bg-color: #3B4455;\n",
              "      --disabled-fill-color: #666;\n",
              "  }\n",
              "\n",
              "  .colab-df-quickchart {\n",
              "    background-color: var(--bg-color);\n",
              "    border: none;\n",
              "    border-radius: 50%;\n",
              "    cursor: pointer;\n",
              "    display: none;\n",
              "    fill: var(--fill-color);\n",
              "    height: 32px;\n",
              "    padding: 0;\n",
              "    width: 32px;\n",
              "  }\n",
              "\n",
              "  .colab-df-quickchart:hover {\n",
              "    background-color: var(--hover-bg-color);\n",
              "    box-shadow: 0 1px 2px rgba(60, 64, 67, 0.3), 0 1px 3px 1px rgba(60, 64, 67, 0.15);\n",
              "    fill: var(--button-hover-fill-color);\n",
              "  }\n",
              "\n",
              "  .colab-df-quickchart-complete:disabled,\n",
              "  .colab-df-quickchart-complete:disabled:hover {\n",
              "    background-color: var(--disabled-bg-color);\n",
              "    fill: var(--disabled-fill-color);\n",
              "    box-shadow: none;\n",
              "  }\n",
              "\n",
              "  .colab-df-spinner {\n",
              "    border: 2px solid var(--fill-color);\n",
              "    border-color: transparent;\n",
              "    border-bottom-color: var(--fill-color);\n",
              "    animation:\n",
              "      spin 1s steps(1) infinite;\n",
              "  }\n",
              "\n",
              "  @keyframes spin {\n",
              "    0% {\n",
              "      border-color: transparent;\n",
              "      border-bottom-color: var(--fill-color);\n",
              "      border-left-color: var(--fill-color);\n",
              "    }\n",
              "    20% {\n",
              "      border-color: transparent;\n",
              "      border-left-color: var(--fill-color);\n",
              "      border-top-color: var(--fill-color);\n",
              "    }\n",
              "    30% {\n",
              "      border-color: transparent;\n",
              "      border-left-color: var(--fill-color);\n",
              "      border-top-color: var(--fill-color);\n",
              "      border-right-color: var(--fill-color);\n",
              "    }\n",
              "    40% {\n",
              "      border-color: transparent;\n",
              "      border-right-color: var(--fill-color);\n",
              "      border-top-color: var(--fill-color);\n",
              "    }\n",
              "    60% {\n",
              "      border-color: transparent;\n",
              "      border-right-color: var(--fill-color);\n",
              "    }\n",
              "    80% {\n",
              "      border-color: transparent;\n",
              "      border-right-color: var(--fill-color);\n",
              "      border-bottom-color: var(--fill-color);\n",
              "    }\n",
              "    90% {\n",
              "      border-color: transparent;\n",
              "      border-bottom-color: var(--fill-color);\n",
              "    }\n",
              "  }\n",
              "</style>\n",
              "\n",
              "  <script>\n",
              "    async function quickchart(key) {\n",
              "      const quickchartButtonEl =\n",
              "        document.querySelector('#' + key + ' button');\n",
              "      quickchartButtonEl.disabled = true;  // To prevent multiple clicks.\n",
              "      quickchartButtonEl.classList.add('colab-df-spinner');\n",
              "      try {\n",
              "        const charts = await google.colab.kernel.invokeFunction(\n",
              "            'suggestCharts', [key], {});\n",
              "      } catch (error) {\n",
              "        console.error('Error during call to suggestCharts:', error);\n",
              "      }\n",
              "      quickchartButtonEl.classList.remove('colab-df-spinner');\n",
              "      quickchartButtonEl.classList.add('colab-df-quickchart-complete');\n",
              "    }\n",
              "    (() => {\n",
              "      let quickchartButtonEl =\n",
              "        document.querySelector('#df-517509a9-354f-48f6-a766-d25c328b34d4 button');\n",
              "      quickchartButtonEl.style.display =\n",
              "        google.colab.kernel.accessAllowed ? 'block' : 'none';\n",
              "    })();\n",
              "  </script>\n",
              "</div>\n",
              "\n",
              "    </div>\n",
              "  </div>\n"
            ]
          },
          "metadata": {},
          "execution_count": 3
        }
      ]
    },
    {
      "cell_type": "code",
      "source": [
        "df.shape"
      ],
      "metadata": {
        "colab": {
          "base_uri": "https://localhost:8080/"
        },
        "id": "et0Jtxamcl_6",
        "outputId": "f6673a37-36a5-4b21-fb8f-20751656d7fc"
      },
      "execution_count": null,
      "outputs": [
        {
          "output_type": "execute_result",
          "data": {
            "text/plain": [
              "(2356, 4)"
            ]
          },
          "metadata": {},
          "execution_count": 4
        }
      ]
    },
    {
      "cell_type": "code",
      "source": [
        "\n",
        "from sklearn.feature_extraction.text import CountVectorizer\n"
      ],
      "metadata": {
        "id": "czTOFky0coD5"
      },
      "execution_count": null,
      "outputs": []
    },
    {
      "cell_type": "code",
      "source": [
        "from sklearn.model_selection import train_test_split\n",
        "\n",
        "X_train,X_test,y_train,y_test=train_test_split(\n",
        "    df.text,\n",
        "    df.label,\n",
        "    test_size=0.2,\n",
        "    random_state=2022,\n",
        "    stratify=df.label\n",
        ")\n"
      ],
      "metadata": {
        "id": "Pp1DHacxcxUt"
      },
      "execution_count": null,
      "outputs": []
    },
    {
      "cell_type": "code",
      "source": [
        "y_test.value_counts()"
      ],
      "metadata": {
        "colab": {
          "base_uri": "https://localhost:8080/"
        },
        "id": "3DHWbtq9c05z",
        "outputId": "9088ae05-c885-4d91-ec6d-2dcdf4efa24f"
      },
      "execution_count": null,
      "outputs": [
        {
          "output_type": "execute_result",
          "data": {
            "text/plain": [
              "1    236\n",
              "0    236\n",
              "Name: label, dtype: int64"
            ]
          },
          "metadata": {},
          "execution_count": 9
        }
      ]
    },
    {
      "cell_type": "code",
      "source": [
        "y_train.shape"
      ],
      "metadata": {
        "colab": {
          "base_uri": "https://localhost:8080/"
        },
        "id": "uxuP5mO9faDU",
        "outputId": "3c3ab9bd-7ebc-4363-87f5-be5d57c51e60"
      },
      "execution_count": null,
      "outputs": [
        {
          "output_type": "execute_result",
          "data": {
            "text/plain": [
              "(1884,)"
            ]
          },
          "metadata": {},
          "execution_count": 22
        }
      ]
    },
    {
      "cell_type": "code",
      "source": [
        "y_train.value_counts()"
      ],
      "metadata": {
        "colab": {
          "base_uri": "https://localhost:8080/"
        },
        "id": "_bgCrZ9Fc3nK",
        "outputId": "5cd5a526-1555-45f7-a464-ba64b93939e1"
      },
      "execution_count": null,
      "outputs": [
        {
          "output_type": "execute_result",
          "data": {
            "text/plain": [
              "1    942\n",
              "0    942\n",
              "Name: label, dtype: int64"
            ]
          },
          "metadata": {},
          "execution_count": 10
        }
      ]
    },
    {
      "cell_type": "code",
      "source": [
        "# multinomial naive bayes using ngrams (1,2) without preprocessing and augmentation\n",
        "from sklearn.naive_bayes import MultinomialNB\n",
        "from sklearn.pipeline import Pipeline\n",
        "from sklearn.metrics import classification_report\n",
        "\n",
        "clf=Pipeline([\n",
        "    ('vectorizer_bow',CountVectorizer(ngram_range=(1,2))),\n",
        "    ('Multi NB',MultinomialNB())\n",
        "\n",
        "])\n",
        "clf.fit(X_train,y_train)\n",
        "y_pred=clf.predict(X_test)\n",
        "print(classification_report(y_test,y_pred))"
      ],
      "metadata": {
        "colab": {
          "base_uri": "https://localhost:8080/"
        },
        "id": "qmCGEJCgc9-3",
        "outputId": "a4cdb168-c818-4616-add3-64413bbd3671"
      },
      "execution_count": null,
      "outputs": [
        {
          "output_type": "stream",
          "name": "stdout",
          "text": [
            "              precision    recall  f1-score   support\n",
            "\n",
            "           0       0.98      0.84      0.91       236\n",
            "           1       0.86      0.98      0.92       236\n",
            "\n",
            "    accuracy                           0.91       472\n",
            "   macro avg       0.92      0.91      0.91       472\n",
            "weighted avg       0.92      0.91      0.91       472\n",
            "\n"
          ]
        }
      ]
    },
    {
      "cell_type": "code",
      "source": [
        "# multinomial naive bayes using ngrams (1,3) without preprocessing and aug\n",
        "\n",
        "from sklearn.naive_bayes import MultinomialNB\n",
        "from sklearn.pipeline import Pipeline\n",
        "from sklearn.metrics import classification_report\n",
        "\n",
        "clf=Pipeline([\n",
        "    ('vectorizer_bow',CountVectorizer(ngram_range=(1,3))),\n",
        "    ('Multi NB',MultinomialNB())\n",
        "\n",
        "])\n",
        "clf.fit(X_train,y_train)\n",
        "y_pred=clf.predict(X_test)\n",
        "print(classification_report(y_test,y_pred))"
      ],
      "metadata": {
        "colab": {
          "base_uri": "https://localhost:8080/"
        },
        "id": "NAsZlr5bdAsW",
        "outputId": "8e04618d-7958-4378-c6d1-734ac64c0a75"
      },
      "execution_count": null,
      "outputs": [
        {
          "output_type": "stream",
          "name": "stdout",
          "text": [
            "              precision    recall  f1-score   support\n",
            "\n",
            "           0       0.98      0.84      0.91       236\n",
            "           1       0.86      0.98      0.92       236\n",
            "\n",
            "    accuracy                           0.91       472\n",
            "   macro avg       0.92      0.91      0.91       472\n",
            "weighted avg       0.92      0.91      0.91       472\n",
            "\n"
          ]
        }
      ]
    },
    {
      "cell_type": "code",
      "source": [
        "# multinomial naive bayes using ngrams (2,3) without preprocessing and aug\n",
        "from sklearn.naive_bayes import MultinomialNB\n",
        "from sklearn.pipeline import Pipeline\n",
        "from sklearn.metrics import classification_report\n",
        "\n",
        "clf=Pipeline([\n",
        "    ('vectorizer_bow',CountVectorizer(ngram_range=(2,3))),\n",
        "    ('Multi NB',MultinomialNB())\n",
        "\n",
        "])\n",
        "clf.fit(X_train,y_train)\n",
        "y_pred=clf.predict(X_test)\n",
        "print(classification_report(y_test,y_pred))"
      ],
      "metadata": {
        "colab": {
          "base_uri": "https://localhost:8080/"
        },
        "id": "NMuE-KX9dDoo",
        "outputId": "c249c80b-9e87-48e1-8e89-ec86a584b3c0"
      },
      "execution_count": null,
      "outputs": [
        {
          "output_type": "stream",
          "name": "stdout",
          "text": [
            "              precision    recall  f1-score   support\n",
            "\n",
            "           0       0.90      0.92      0.91       236\n",
            "           1       0.91      0.89      0.90       236\n",
            "\n",
            "    accuracy                           0.90       472\n",
            "   macro avg       0.90      0.90      0.90       472\n",
            "weighted avg       0.90      0.90      0.90       472\n",
            "\n"
          ]
        }
      ]
    },
    {
      "cell_type": "code",
      "source": [
        "# bernoulli naive bayes using ngrams (1,2) without preprocessing and augmentation\n",
        "from sklearn.naive_bayes import MultinomialNB\n",
        "from sklearn.naive_bayes import BernoulliNB\n",
        "from sklearn.pipeline import Pipeline\n",
        "from sklearn.metrics import classification_report\n",
        "\n",
        "clf=Pipeline([\n",
        "    ('vectorizer_bow',CountVectorizer(ngram_range=(1,2))),\n",
        "    ('Multi NB',BernoulliNB())\n",
        "\n",
        "])\n",
        "clf.fit(X_train,y_train)\n",
        "y_pred=clf.predict(X_test)\n",
        "print(classification_report(y_test,y_pred))"
      ],
      "metadata": {
        "colab": {
          "base_uri": "https://localhost:8080/"
        },
        "id": "qxv5uKJfdGmJ",
        "outputId": "9e413694-acce-430c-dfa9-08f45204033a"
      },
      "execution_count": null,
      "outputs": [
        {
          "output_type": "stream",
          "name": "stdout",
          "text": [
            "              precision    recall  f1-score   support\n",
            "\n",
            "           0       0.91      0.97      0.94       236\n",
            "           1       0.97      0.91      0.94       236\n",
            "\n",
            "    accuracy                           0.94       472\n",
            "   macro avg       0.94      0.94      0.94       472\n",
            "weighted avg       0.94      0.94      0.94       472\n",
            "\n"
          ]
        }
      ]
    },
    {
      "cell_type": "code",
      "source": [
        "# bernoulli naive bayes using ngrams (1,3) without preprocessing and augmentation\n",
        "from sklearn.naive_bayes import MultinomialNB\n",
        "from sklearn.naive_bayes import BernoulliNB\n",
        "from sklearn.pipeline import Pipeline\n",
        "from sklearn.metrics import classification_report\n",
        "\n",
        "clf=Pipeline([\n",
        "    ('vectorizer_bow',CountVectorizer(ngram_range=(1,3))),\n",
        "    ('Multi NB',BernoulliNB())\n",
        "\n",
        "])\n",
        "clf.fit(X_train,y_train)\n",
        "y_pred=clf.predict(X_test)\n",
        "print(classification_report(y_test,y_pred))"
      ],
      "metadata": {
        "colab": {
          "base_uri": "https://localhost:8080/"
        },
        "id": "ewg4Ty3edsM2",
        "outputId": "610e3f62-746a-47a0-ca47-e9f28dade4eb"
      },
      "execution_count": null,
      "outputs": [
        {
          "output_type": "stream",
          "name": "stdout",
          "text": [
            "              precision    recall  f1-score   support\n",
            "\n",
            "           0       0.89      0.98      0.93       236\n",
            "           1       0.98      0.87      0.92       236\n",
            "\n",
            "    accuracy                           0.93       472\n",
            "   macro avg       0.93      0.93      0.93       472\n",
            "weighted avg       0.93      0.93      0.93       472\n",
            "\n"
          ]
        }
      ]
    },
    {
      "cell_type": "code",
      "source": [
        "# bernoulli naive bayes using ngrams (2,3) without preprocessing and augmentation\n",
        "from sklearn.naive_bayes import MultinomialNB\n",
        "from sklearn.naive_bayes import BernoulliNB\n",
        "from sklearn.pipeline import Pipeline\n",
        "from sklearn.metrics import classification_report\n",
        "\n",
        "clf=Pipeline([\n",
        "    ('vectorizer_bow',CountVectorizer(ngram_range=(2,3))),\n",
        "    ('Multi NB',BernoulliNB())\n",
        "\n",
        "])\n",
        "clf.fit(X_train,y_train)\n",
        "y_pred=clf.predict(X_test)\n",
        "print(classification_report(y_test,y_pred))"
      ],
      "metadata": {
        "colab": {
          "base_uri": "https://localhost:8080/"
        },
        "id": "dR4hieXedvtd",
        "outputId": "f4b5d311-9ae8-4368-818d-fd88ab5d8a2d"
      },
      "execution_count": null,
      "outputs": [
        {
          "output_type": "stream",
          "name": "stdout",
          "text": [
            "              precision    recall  f1-score   support\n",
            "\n",
            "           0       0.75      1.00      0.86       236\n",
            "           1       1.00      0.66      0.80       236\n",
            "\n",
            "    accuracy                           0.83       472\n",
            "   macro avg       0.87      0.83      0.83       472\n",
            "weighted avg       0.87      0.83      0.83       472\n",
            "\n"
          ]
        }
      ]
    },
    {
      "cell_type": "code",
      "source": [
        "# gaussian naive bayes using ngrams (1,2) without preprocessing and augmentation\n",
        "from sklearn.feature_extraction.text import CountVectorizer\n",
        "from sklearn.naive_bayes import GaussianNB\n",
        "from sklearn.metrics import classification_report\n",
        "from sklearn.model_selection import train_test_split\n",
        "\n",
        "# Assuming X_train is a Pandas Series containing text data and y_train is the corresponding labels\n",
        "# Split the data into training and testing sets\n",
        "X_train, X_test, y_train, y_test = train_test_split(X_train, y_train, test_size=0.2, random_state=42)\n",
        "\n",
        "# Create a CountVectorizer with bag of n-grams\n",
        "ngram_range = (1, 2)  # Adjust the n-gram range as needed\n",
        "vectorizer = CountVectorizer(ngram_range=ngram_range)\n",
        "\n",
        "# Fit and transform the training data\n",
        "X_train_count = vectorizer.fit_transform(X_train)\n",
        "\n",
        "# Create and fit the Gaussian Naive Bayes classifier\n",
        "gnb = GaussianNB()\n",
        "gnb.fit(X_train_count.toarray(), y_train)  # Note the toarray() to convert sparse matrix to dense array\n",
        "\n",
        "# Transform the test data using the same vectorizer\n",
        "X_test_count = vectorizer.transform(X_test)\n",
        "\n",
        "# Make predictions on test data\n",
        "y_pred = gnb.predict(X_test_count.toarray())  # Note the toarray() here as well\n",
        "\n",
        "# Display classification report\n",
        "print(classification_report(y_test, y_pred))\n"
      ],
      "metadata": {
        "colab": {
          "base_uri": "https://localhost:8080/"
        },
        "id": "fbQthC02d0mW",
        "outputId": "f76d2643-c2eb-4ed4-dc27-72a6f7eeda2e"
      },
      "execution_count": null,
      "outputs": [
        {
          "output_type": "stream",
          "name": "stdout",
          "text": [
            "              precision    recall  f1-score   support\n",
            "\n",
            "           0       0.94      0.90      0.92       189\n",
            "           1       0.91      0.94      0.92       188\n",
            "\n",
            "    accuracy                           0.92       377\n",
            "   macro avg       0.92      0.92      0.92       377\n",
            "weighted avg       0.92      0.92      0.92       377\n",
            "\n"
          ]
        }
      ]
    },
    {
      "cell_type": "code",
      "source": [
        "# gaussian naive bayes using ngrams (2,3) without preprocessing and augmentation\n",
        "from sklearn.feature_extraction.text import CountVectorizer\n",
        "from sklearn.naive_bayes import GaussianNB\n",
        "from sklearn.metrics import classification_report\n",
        "from sklearn.model_selection import train_test_split\n",
        "\n",
        "# Assuming X_train is a Pandas Series containing text data and y_train is the corresponding labels\n",
        "# Split the data into training and testing sets\n",
        "X_train, X_test, y_train, y_test = train_test_split(X_train, y_train, test_size=0.2, random_state=42)\n",
        "\n",
        "# Create a CountVectorizer with bag of n-grams\n",
        "ngram_range = (1, 2)  # Adjust the n-gram range as needed\n",
        "vectorizer = CountVectorizer(ngram_range=ngram_range)\n",
        "\n",
        "# Fit and transform the training data\n",
        "X_train_count = vectorizer.fit_transform(X_train)\n",
        "\n",
        "# Create and fit the Gaussian Naive Bayes classifier\n",
        "gnb = GaussianNB()\n",
        "gnb.fit(X_train_count.toarray(), y_train)  # Note the toarray() to convert sparse matrix to dense array\n",
        "\n",
        "# Transform the test data using the same vectorizer\n",
        "X_test_count = vectorizer.transform(X_test)\n",
        "\n",
        "# Make predictions on test data\n",
        "y_pred = gnb.predict(X_test_count.toarray())  # Note the toarray() here as well\n",
        "\n",
        "# Display classification report\n",
        "print(classification_report(y_test, y_pred))\n"
      ],
      "metadata": {
        "colab": {
          "base_uri": "https://localhost:8080/"
        },
        "id": "3dQQd8k1d-gR",
        "outputId": "cb11bae0-a499-4d25-8fae-a24ea54a36dc"
      },
      "execution_count": null,
      "outputs": [
        {
          "output_type": "stream",
          "name": "stdout",
          "text": [
            "              precision    recall  f1-score   support\n",
            "\n",
            "           0       0.94      0.58      0.72       151\n",
            "           1       0.70      0.96      0.81       151\n",
            "\n",
            "    accuracy                           0.77       302\n",
            "   macro avg       0.82      0.77      0.76       302\n",
            "weighted avg       0.82      0.77      0.76       302\n",
            "\n"
          ]
        }
      ]
    },
    {
      "cell_type": "code",
      "source": [
        "# gaussian naive bayes using ngrams (1,3) without preprocessing and augmentation\n",
        "from sklearn.feature_extraction.text import CountVectorizer\n",
        "from sklearn.naive_bayes import GaussianNB\n",
        "from sklearn.metrics import classification_report\n",
        "from sklearn.model_selection import train_test_split\n",
        "\n",
        "# Assuming X_train is a Pandas Series containing text data and y_train is the corresponding labels\n",
        "# Split the data into training and testing sets\n",
        "X_train, X_test, y_train, y_test = train_test_split(X_train, y_train, test_size=0.2, random_state=42)\n",
        "\n",
        "# Create a CountVectorizer with bag of n-grams\n",
        "ngram_range = (1, 3)  # Adjust the n-gram range as needed\n",
        "vectorizer = CountVectorizer(ngram_range=ngram_range)\n",
        "\n",
        "# Fit and transform the training data\n",
        "X_train_count = vectorizer.fit_transform(X_train)\n",
        "\n",
        "# Create and fit the Gaussian Naive Bayes classifier\n",
        "gnb = GaussianNB()\n",
        "gnb.fit(X_train_count.toarray(), y_train)  # Note the toarray() to convert sparse matrix to dense array\n",
        "\n",
        "# Transform the test data using the same vectorizer\n",
        "X_test_count = vectorizer.transform(X_test)\n",
        "\n",
        "# Make predictions on test data\n",
        "y_pred = gnb.predict(X_test_count.toarray())  # Note the toarray() here as well\n",
        "\n",
        "# Display classification report\n",
        "print(classification_report(y_test, y_pred))\n"
      ],
      "metadata": {
        "colab": {
          "base_uri": "https://localhost:8080/"
        },
        "id": "lPjkSxfUf297",
        "outputId": "2f981a91-0377-4698-b1b1-d33e1ff8910b"
      },
      "execution_count": null,
      "outputs": [
        {
          "output_type": "stream",
          "name": "stdout",
          "text": [
            "              precision    recall  f1-score   support\n",
            "\n",
            "           0       0.95      0.95      0.95       124\n",
            "           1       0.95      0.95      0.95       117\n",
            "\n",
            "    accuracy                           0.95       241\n",
            "   macro avg       0.95      0.95      0.95       241\n",
            "weighted avg       0.95      0.95      0.95       241\n",
            "\n"
          ]
        }
      ]
    },
    {
      "cell_type": "code",
      "source": [
        "# preprocessing means removing stop words and doing lemmatization\n",
        "import spacy\n",
        "nlp=spacy.load(\"en_core_web_sm\")\n",
        "def preprocess(text):\n",
        "    doc=nlp(text)\n",
        "    filtered_token=[]\n",
        "    for token in doc:\n",
        "      if token.is_stop or token.is_punct:\n",
        "        continue\n",
        "      filtered_token.append(token.lemma_)\n",
        "    return \" \".join(filtered_token)"
      ],
      "metadata": {
        "id": "AxP3872_f6ZV"
      },
      "execution_count": null,
      "outputs": []
    },
    {
      "cell_type": "code",
      "source": [
        "df['pre_text']=df.text.apply(preprocess)"
      ],
      "metadata": {
        "id": "_3atmQuwgIay"
      },
      "execution_count": null,
      "outputs": []
    },
    {
      "cell_type": "code",
      "source": [
        "from sklearn.model_selection import train_test_split\n",
        "\n",
        "X_train,X_test,y_train,y_test=train_test_split(\n",
        "    df.pre_text,\n",
        "    df.label,\n",
        "    test_size=0.2,\n",
        "    random_state=2022,\n",
        "    stratify=df.label\n",
        ")\n"
      ],
      "metadata": {
        "id": "sDhon-_8gPah"
      },
      "execution_count": null,
      "outputs": []
    },
    {
      "cell_type": "code",
      "source": [
        "X_train.head(5)"
      ],
      "metadata": {
        "colab": {
          "base_uri": "https://localhost:8080/"
        },
        "id": "qSudbAcIglSP",
        "outputId": "1f4ab019-9d30-449a-bd2a-7b373628d7cf"
      },
      "execution_count": null,
      "outputs": [
        {
          "output_type": "execute_result",
          "data": {
            "text/plain": [
              "1389                           thank get cool Glock stuff\n",
              "2110                           Offer end 9hrs 55min 29sec\n",
              "268                                803 Claimed Hurry left\n",
              "2115                                Dog Whistles Lanyards\n",
              "1415    israël Metz France purchase ADVANCED Chord Sub...\n",
              "Name: pre_text, dtype: object"
            ]
          },
          "metadata": {},
          "execution_count": 33
        }
      ]
    },
    {
      "cell_type": "code",
      "source": [
        "# multinomial naive bayes using ngrams (1,2) with preprocessing and without augmentation\n",
        "from sklearn.naive_bayes import MultinomialNB\n",
        "from sklearn.pipeline import Pipeline\n",
        "from sklearn.metrics import classification_report\n",
        "\n",
        "clf=Pipeline([\n",
        "    ('vectorizer_bow',CountVectorizer(ngram_range=(1,2))),\n",
        "    ('Multi NB',MultinomialNB())\n",
        "\n",
        "])\n",
        "clf.fit(X_train,y_train)\n",
        "y_pred=clf.predict(X_test)\n",
        "print(classification_report(y_test,y_pred))"
      ],
      "metadata": {
        "colab": {
          "base_uri": "https://localhost:8080/"
        },
        "id": "cxPZaRCbgnXw",
        "outputId": "b6fc12d5-e553-4eac-bed2-59775f359d7f"
      },
      "execution_count": null,
      "outputs": [
        {
          "output_type": "stream",
          "name": "stdout",
          "text": [
            "              precision    recall  f1-score   support\n",
            "\n",
            "           0       0.97      0.84      0.90       236\n",
            "           1       0.86      0.97      0.91       236\n",
            "\n",
            "    accuracy                           0.91       472\n",
            "   macro avg       0.92      0.91      0.91       472\n",
            "weighted avg       0.92      0.91      0.91       472\n",
            "\n"
          ]
        }
      ]
    },
    {
      "cell_type": "code",
      "source": [
        "# multinomial naive bayes using ngrams (1,3) with preprocessing and without augmentation\n",
        "from sklearn.naive_bayes import MultinomialNB\n",
        "from sklearn.pipeline import Pipeline\n",
        "from sklearn.metrics import classification_report\n",
        "\n",
        "clf=Pipeline([\n",
        "    ('vectorizer_bow',CountVectorizer(ngram_range=(1,3))),\n",
        "    ('Multi NB',MultinomialNB())\n",
        "\n",
        "])\n",
        "clf.fit(X_train,y_train)\n",
        "y_pred=clf.predict(X_test)\n",
        "print(classification_report(y_test,y_pred))"
      ],
      "metadata": {
        "colab": {
          "base_uri": "https://localhost:8080/"
        },
        "id": "jADzcfoeg6tX",
        "outputId": "d179c71a-35af-4e6d-8eff-f715bf00f79a"
      },
      "execution_count": null,
      "outputs": [
        {
          "output_type": "stream",
          "name": "stdout",
          "text": [
            "              precision    recall  f1-score   support\n",
            "\n",
            "           0       0.97      0.84      0.90       236\n",
            "           1       0.86      0.97      0.91       236\n",
            "\n",
            "    accuracy                           0.91       472\n",
            "   macro avg       0.92      0.91      0.91       472\n",
            "weighted avg       0.92      0.91      0.91       472\n",
            "\n"
          ]
        }
      ]
    },
    {
      "cell_type": "code",
      "source": [
        "# multinomial naive bayes using ngrams (2,3) with preprocessing and without augmentation\n",
        "from sklearn.naive_bayes import MultinomialNB\n",
        "from sklearn.pipeline import Pipeline\n",
        "from sklearn.metrics import classification_report\n",
        "\n",
        "clf=Pipeline([\n",
        "    ('vectorizer_bow',CountVectorizer(ngram_range=(2,3))),\n",
        "    ('Multi NB',MultinomialNB())\n",
        "\n",
        "])\n",
        "clf.fit(X_train,y_train)\n",
        "y_pred=clf.predict(X_test)\n",
        "print(classification_report(y_test,y_pred))"
      ],
      "metadata": {
        "colab": {
          "base_uri": "https://localhost:8080/"
        },
        "id": "uBcsvUurg9i_",
        "outputId": "dd261330-3277-4979-edcc-91cb3d824904"
      },
      "execution_count": null,
      "outputs": [
        {
          "output_type": "stream",
          "name": "stdout",
          "text": [
            "              precision    recall  f1-score   support\n",
            "\n",
            "           0       0.82      0.97      0.89       236\n",
            "           1       0.96      0.79      0.87       236\n",
            "\n",
            "    accuracy                           0.88       472\n",
            "   macro avg       0.89      0.88      0.88       472\n",
            "weighted avg       0.89      0.88      0.88       472\n",
            "\n"
          ]
        }
      ]
    },
    {
      "cell_type": "code",
      "source": [
        "# bernoulli naive bayes using ngrams (1,2) with preprocessing and without augmentation\n",
        "from sklearn.naive_bayes import MultinomialNB\n",
        "from sklearn.naive_bayes import BernoulliNB\n",
        "from sklearn.pipeline import Pipeline\n",
        "from sklearn.metrics import classification_report\n",
        "\n",
        "clf=Pipeline([\n",
        "    ('vectorizer_bow',CountVectorizer(ngram_range=(1,2))),\n",
        "    ('Multi NB',BernoulliNB())\n",
        "\n",
        "])\n",
        "clf.fit(X_train,y_train)\n",
        "y_pred=clf.predict(X_test)\n",
        "print(classification_report(y_test,y_pred))"
      ],
      "metadata": {
        "colab": {
          "base_uri": "https://localhost:8080/"
        },
        "id": "ReaSrf2xhAdi",
        "outputId": "67fca74a-6c54-4ec2-9756-93d8571590f5"
      },
      "execution_count": null,
      "outputs": [
        {
          "output_type": "stream",
          "name": "stdout",
          "text": [
            "              precision    recall  f1-score   support\n",
            "\n",
            "           0       0.93      0.96      0.95       236\n",
            "           1       0.96      0.93      0.94       236\n",
            "\n",
            "    accuracy                           0.94       472\n",
            "   macro avg       0.95      0.94      0.94       472\n",
            "weighted avg       0.95      0.94      0.94       472\n",
            "\n"
          ]
        }
      ]
    },
    {
      "cell_type": "code",
      "source": [
        "# bernoulli naive bayes using ngrams (1,3) with preprocessing and without augmentation\n",
        "from sklearn.naive_bayes import MultinomialNB\n",
        "from sklearn.naive_bayes import BernoulliNB\n",
        "from sklearn.pipeline import Pipeline\n",
        "from sklearn.metrics import classification_report\n",
        "\n",
        "clf=Pipeline([\n",
        "    ('vectorizer_bow',CountVectorizer(ngram_range=(1,3))),\n",
        "    ('Multi NB',BernoulliNB())\n",
        "\n",
        "])\n",
        "clf.fit(X_train,y_train)\n",
        "y_pred=clf.predict(X_test)\n",
        "print(classification_report(y_test,y_pred))"
      ],
      "metadata": {
        "colab": {
          "base_uri": "https://localhost:8080/"
        },
        "id": "iwlwVno6hGbk",
        "outputId": "fd263eec-ccbc-40a9-b86d-9237d9c5e792"
      },
      "execution_count": null,
      "outputs": [
        {
          "output_type": "stream",
          "name": "stdout",
          "text": [
            "              precision    recall  f1-score   support\n",
            "\n",
            "           0       0.89      0.98      0.93       236\n",
            "           1       0.98      0.88      0.92       236\n",
            "\n",
            "    accuracy                           0.93       472\n",
            "   macro avg       0.93      0.93      0.93       472\n",
            "weighted avg       0.93      0.93      0.93       472\n",
            "\n"
          ]
        }
      ]
    },
    {
      "cell_type": "code",
      "source": [
        "# bernoulli naive bayes using ngrams (2,3) with preprocessing and without augmentation\n",
        "from sklearn.naive_bayes import MultinomialNB\n",
        "from sklearn.naive_bayes import BernoulliNB\n",
        "from sklearn.pipeline import Pipeline\n",
        "from sklearn.metrics import classification_report\n",
        "\n",
        "clf=Pipeline([\n",
        "    ('vectorizer_bow',CountVectorizer(ngram_range=(2,3))),\n",
        "    ('Multi NB',BernoulliNB())\n",
        "\n",
        "])\n",
        "clf.fit(X_train,y_train)\n",
        "y_pred=clf.predict(X_test)\n",
        "print(classification_report(y_test,y_pred))"
      ],
      "metadata": {
        "colab": {
          "base_uri": "https://localhost:8080/"
        },
        "id": "eqAfCmTghKR6",
        "outputId": "d2b03923-e870-4733-a2ed-4c981bfe6112"
      },
      "execution_count": null,
      "outputs": [
        {
          "output_type": "stream",
          "name": "stdout",
          "text": [
            "              precision    recall  f1-score   support\n",
            "\n",
            "           0       0.68      0.99      0.81       236\n",
            "           1       0.98      0.54      0.69       236\n",
            "\n",
            "    accuracy                           0.76       472\n",
            "   macro avg       0.83      0.76      0.75       472\n",
            "weighted avg       0.83      0.76      0.75       472\n",
            "\n"
          ]
        }
      ]
    },
    {
      "cell_type": "code",
      "source": [
        "# gaussian naive bayes using ngrams (1,2) with preprocessing and without augmentation\n",
        "from sklearn.feature_extraction.text import CountVectorizer\n",
        "from sklearn.naive_bayes import GaussianNB\n",
        "from sklearn.metrics import classification_report\n",
        "from sklearn.model_selection import train_test_split\n",
        "\n",
        "# Assuming X_train is a Pandas Series containing text data and y_train is the corresponding labels\n",
        "# Split the data into training and testing sets\n",
        "X_train, X_test, y_train, y_test = train_test_split(X_train, y_train, test_size=0.2, random_state=42)\n",
        "\n",
        "# Create a CountVectorizer with bag of n-grams\n",
        "ngram_range = (1, 2)  # Adjust the n-gram range as needed\n",
        "vectorizer = CountVectorizer(ngram_range=ngram_range)\n",
        "\n",
        "# Fit and transform the training data\n",
        "X_train_count = vectorizer.fit_transform(X_train)\n",
        "\n",
        "# Create and fit the Gaussian Naive Bayes classifier\n",
        "gnb = GaussianNB()\n",
        "gnb.fit(X_train_count.toarray(), y_train)  # Note the toarray() to convert sparse matrix to dense array\n",
        "\n",
        "# Transform the test data using the same vectorizer\n",
        "X_test_count = vectorizer.transform(X_test)\n",
        "\n",
        "# Make predictions on test data\n",
        "y_pred = gnb.predict(X_test_count.toarray())  # Note the toarray() here as well\n",
        "\n",
        "# Display classification report\n",
        "print(classification_report(y_test, y_pred))\n"
      ],
      "metadata": {
        "colab": {
          "base_uri": "https://localhost:8080/"
        },
        "id": "JlGitI43hNqA",
        "outputId": "586fe6f9-78f4-44f5-fd30-9ad222c453de"
      },
      "execution_count": null,
      "outputs": [
        {
          "output_type": "stream",
          "name": "stdout",
          "text": [
            "              precision    recall  f1-score   support\n",
            "\n",
            "           0       0.82      0.94      0.88       189\n",
            "           1       0.93      0.80      0.86       188\n",
            "\n",
            "    accuracy                           0.87       377\n",
            "   macro avg       0.88      0.87      0.87       377\n",
            "weighted avg       0.88      0.87      0.87       377\n",
            "\n"
          ]
        }
      ]
    },
    {
      "cell_type": "code",
      "source": [
        "# gaussian naive bayes using ngrams (1,3) with preprocessing and without augmentation\n",
        "from sklearn.feature_extraction.text import CountVectorizer\n",
        "from sklearn.naive_bayes import GaussianNB\n",
        "from sklearn.metrics import classification_report\n",
        "from sklearn.model_selection import train_test_split\n",
        "\n",
        "# Assuming X_train is a Pandas Series containing text data and y_train is the corresponding labels\n",
        "# Split the data into training and testing sets\n",
        "X_train, X_test, y_train, y_test = train_test_split(X_train, y_train, test_size=0.2, random_state=42)\n",
        "\n",
        "# Create a CountVectorizer with bag of n-grams\n",
        "ngram_range = (1, 3)  # Adjust the n-gram range as needed\n",
        "vectorizer = CountVectorizer(ngram_range=ngram_range)\n",
        "\n",
        "# Fit and transform the training data\n",
        "X_train_count = vectorizer.fit_transform(X_train)\n",
        "\n",
        "# Create and fit the Gaussian Naive Bayes classifier\n",
        "gnb = GaussianNB()\n",
        "gnb.fit(X_train_count.toarray(), y_train)  # Note the toarray() to convert sparse matrix to dense array\n",
        "\n",
        "# Transform the test data using the same vectorizer\n",
        "X_test_count = vectorizer.transform(X_test)\n",
        "\n",
        "# Make predictions on test data\n",
        "y_pred = gnb.predict(X_test_count.toarray())  # Note the toarray() here as well\n",
        "\n",
        "# Display classification report\n",
        "print(classification_report(y_test, y_pred))\n"
      ],
      "metadata": {
        "colab": {
          "base_uri": "https://localhost:8080/"
        },
        "id": "SHzNt8JfhUKU",
        "outputId": "89cea81a-9674-4817-97ad-84de6656292a"
      },
      "execution_count": null,
      "outputs": [
        {
          "output_type": "stream",
          "name": "stdout",
          "text": [
            "              precision    recall  f1-score   support\n",
            "\n",
            "           0       0.83      0.96      0.89       151\n",
            "           1       0.95      0.80      0.87       151\n",
            "\n",
            "    accuracy                           0.88       302\n",
            "   macro avg       0.89      0.88      0.88       302\n",
            "weighted avg       0.89      0.88      0.88       302\n",
            "\n"
          ]
        }
      ]
    },
    {
      "cell_type": "code",
      "source": [
        "# gaussian naive bayes using ngrams (2,3) with preprocessing and without augmentation\n",
        "from sklearn.feature_extraction.text import CountVectorizer\n",
        "from sklearn.naive_bayes import GaussianNB\n",
        "from sklearn.metrics import classification_report\n",
        "from sklearn.model_selection import train_test_split\n",
        "\n",
        "# Assuming X_train is a Pandas Series containing text data and y_train is the corresponding labels\n",
        "# Split the data into training and testing sets\n",
        "X_train, X_test, y_train, y_test = train_test_split(X_train, y_train, test_size=0.2, random_state=42)\n",
        "\n",
        "# Create a CountVectorizer with bag of n-grams\n",
        "ngram_range = (2, 3)  # Adjust the n-gram range as needed\n",
        "vectorizer = CountVectorizer(ngram_range=ngram_range)\n",
        "\n",
        "# Fit and transform the training data\n",
        "X_train_count = vectorizer.fit_transform(X_train)\n",
        "\n",
        "# Create and fit the Gaussian Naive Bayes classifier\n",
        "gnb = GaussianNB()\n",
        "gnb.fit(X_train_count.toarray(), y_train)  # Note the toarray() to convert sparse matrix to dense array\n",
        "\n",
        "# Transform the test data using the same vectorizer\n",
        "X_test_count = vectorizer.transform(X_test)\n",
        "\n",
        "# Make predictions on test data\n",
        "y_pred = gnb.predict(X_test_count.toarray())  # Note the toarray() here as well\n",
        "\n",
        "# Display classification report\n",
        "print(classification_report(y_test, y_pred))\n"
      ],
      "metadata": {
        "colab": {
          "base_uri": "https://localhost:8080/"
        },
        "id": "A90nv02WhXdz",
        "outputId": "ecdc8554-39ef-4d5b-c02b-32f465bad53a"
      },
      "execution_count": null,
      "outputs": [
        {
          "output_type": "stream",
          "name": "stdout",
          "text": [
            "              precision    recall  f1-score   support\n",
            "\n",
            "           0       0.76      0.98      0.86       124\n",
            "           1       0.96      0.68      0.79       117\n",
            "\n",
            "    accuracy                           0.83       241\n",
            "   macro avg       0.86      0.83      0.82       241\n",
            "weighted avg       0.86      0.83      0.83       241\n",
            "\n"
          ]
        }
      ]
    },
    {
      "cell_type": "code",
      "source": [
        "## NOW CARRYING OUT EVERYTHING BUT WITH AUGMENTEDT DATASET\n",
        "import pandas as pd\n",
        "df=pd.read_csv('/content/aug_data.csv')"
      ],
      "metadata": {
        "id": "UZGNKIY7hav8"
      },
      "execution_count": null,
      "outputs": []
    },
    {
      "cell_type": "code",
      "source": [
        "df.head(10)"
      ],
      "metadata": {
        "colab": {
          "base_uri": "https://localhost:8080/",
          "height": 432
        },
        "id": "Ou4HJOCIMgbf",
        "outputId": "df8b95d6-45af-41fd-866c-c78677b07e58"
      },
      "execution_count": null,
      "outputs": [
        {
          "output_type": "execute_result",
          "data": {
            "text/plain": [
              "   Unnamed: 0  page_id                                               text  \\\n",
              "0           0   1012.0            FLASH SALE | LIMITED TIME ONLY Shop Now   \n",
              "1           1    158.0                                Pillowcases & Shams   \n",
              "2           2    108.0                                     Write a review   \n",
              "3           3   1425.0  To start your return, simply click on the foll...   \n",
              "4           4   1658.0                newsletter signup (privacy policy)    \n",
              "5           5    975.0                                          In demand   \n",
              "6           6   1469.0  We cannot guarantee door to door delivery for ...   \n",
              "7           7   1570.0                        Hurry! Only 2 left in stock   \n",
              "8           8   1617.0                               In Stock only 3 left   \n",
              "9           9    108.0                      International Shipping Policy   \n",
              "\n",
              "   label  Pattern Category  \n",
              "0      1           Urgency  \n",
              "1      0  Not Dark Pattern  \n",
              "2      0  Not Dark Pattern  \n",
              "3      0  Not Dark Pattern  \n",
              "4      0  Not Dark Pattern  \n",
              "5      1          Scarcity  \n",
              "6      0  Not Dark Pattern  \n",
              "7      1          Scarcity  \n",
              "8      1          Scarcity  \n",
              "9      0  Not Dark Pattern  "
            ],
            "text/html": [
              "\n",
              "  <div id=\"df-56e1b836-c95f-4a2d-8f57-48b1855d3cf0\" class=\"colab-df-container\">\n",
              "    <div>\n",
              "<style scoped>\n",
              "    .dataframe tbody tr th:only-of-type {\n",
              "        vertical-align: middle;\n",
              "    }\n",
              "\n",
              "    .dataframe tbody tr th {\n",
              "        vertical-align: top;\n",
              "    }\n",
              "\n",
              "    .dataframe thead th {\n",
              "        text-align: right;\n",
              "    }\n",
              "</style>\n",
              "<table border=\"1\" class=\"dataframe\">\n",
              "  <thead>\n",
              "    <tr style=\"text-align: right;\">\n",
              "      <th></th>\n",
              "      <th>Unnamed: 0</th>\n",
              "      <th>page_id</th>\n",
              "      <th>text</th>\n",
              "      <th>label</th>\n",
              "      <th>Pattern Category</th>\n",
              "    </tr>\n",
              "  </thead>\n",
              "  <tbody>\n",
              "    <tr>\n",
              "      <th>0</th>\n",
              "      <td>0</td>\n",
              "      <td>1012.0</td>\n",
              "      <td>FLASH SALE | LIMITED TIME ONLY Shop Now</td>\n",
              "      <td>1</td>\n",
              "      <td>Urgency</td>\n",
              "    </tr>\n",
              "    <tr>\n",
              "      <th>1</th>\n",
              "      <td>1</td>\n",
              "      <td>158.0</td>\n",
              "      <td>Pillowcases &amp; Shams</td>\n",
              "      <td>0</td>\n",
              "      <td>Not Dark Pattern</td>\n",
              "    </tr>\n",
              "    <tr>\n",
              "      <th>2</th>\n",
              "      <td>2</td>\n",
              "      <td>108.0</td>\n",
              "      <td>Write a review</td>\n",
              "      <td>0</td>\n",
              "      <td>Not Dark Pattern</td>\n",
              "    </tr>\n",
              "    <tr>\n",
              "      <th>3</th>\n",
              "      <td>3</td>\n",
              "      <td>1425.0</td>\n",
              "      <td>To start your return, simply click on the foll...</td>\n",
              "      <td>0</td>\n",
              "      <td>Not Dark Pattern</td>\n",
              "    </tr>\n",
              "    <tr>\n",
              "      <th>4</th>\n",
              "      <td>4</td>\n",
              "      <td>1658.0</td>\n",
              "      <td>newsletter signup (privacy policy)</td>\n",
              "      <td>0</td>\n",
              "      <td>Not Dark Pattern</td>\n",
              "    </tr>\n",
              "    <tr>\n",
              "      <th>5</th>\n",
              "      <td>5</td>\n",
              "      <td>975.0</td>\n",
              "      <td>In demand</td>\n",
              "      <td>1</td>\n",
              "      <td>Scarcity</td>\n",
              "    </tr>\n",
              "    <tr>\n",
              "      <th>6</th>\n",
              "      <td>6</td>\n",
              "      <td>1469.0</td>\n",
              "      <td>We cannot guarantee door to door delivery for ...</td>\n",
              "      <td>0</td>\n",
              "      <td>Not Dark Pattern</td>\n",
              "    </tr>\n",
              "    <tr>\n",
              "      <th>7</th>\n",
              "      <td>7</td>\n",
              "      <td>1570.0</td>\n",
              "      <td>Hurry! Only 2 left in stock</td>\n",
              "      <td>1</td>\n",
              "      <td>Scarcity</td>\n",
              "    </tr>\n",
              "    <tr>\n",
              "      <th>8</th>\n",
              "      <td>8</td>\n",
              "      <td>1617.0</td>\n",
              "      <td>In Stock only 3 left</td>\n",
              "      <td>1</td>\n",
              "      <td>Scarcity</td>\n",
              "    </tr>\n",
              "    <tr>\n",
              "      <th>9</th>\n",
              "      <td>9</td>\n",
              "      <td>108.0</td>\n",
              "      <td>International Shipping Policy</td>\n",
              "      <td>0</td>\n",
              "      <td>Not Dark Pattern</td>\n",
              "    </tr>\n",
              "  </tbody>\n",
              "</table>\n",
              "</div>\n",
              "    <div class=\"colab-df-buttons\">\n",
              "\n",
              "  <div class=\"colab-df-container\">\n",
              "    <button class=\"colab-df-convert\" onclick=\"convertToInteractive('df-56e1b836-c95f-4a2d-8f57-48b1855d3cf0')\"\n",
              "            title=\"Convert this dataframe to an interactive table.\"\n",
              "            style=\"display:none;\">\n",
              "\n",
              "  <svg xmlns=\"http://www.w3.org/2000/svg\" height=\"24px\" viewBox=\"0 -960 960 960\">\n",
              "    <path d=\"M120-120v-720h720v720H120Zm60-500h600v-160H180v160Zm220 220h160v-160H400v160Zm0 220h160v-160H400v160ZM180-400h160v-160H180v160Zm440 0h160v-160H620v160ZM180-180h160v-160H180v160Zm440 0h160v-160H620v160Z\"/>\n",
              "  </svg>\n",
              "    </button>\n",
              "\n",
              "  <style>\n",
              "    .colab-df-container {\n",
              "      display:flex;\n",
              "      gap: 12px;\n",
              "    }\n",
              "\n",
              "    .colab-df-convert {\n",
              "      background-color: #E8F0FE;\n",
              "      border: none;\n",
              "      border-radius: 50%;\n",
              "      cursor: pointer;\n",
              "      display: none;\n",
              "      fill: #1967D2;\n",
              "      height: 32px;\n",
              "      padding: 0 0 0 0;\n",
              "      width: 32px;\n",
              "    }\n",
              "\n",
              "    .colab-df-convert:hover {\n",
              "      background-color: #E2EBFA;\n",
              "      box-shadow: 0px 1px 2px rgba(60, 64, 67, 0.3), 0px 1px 3px 1px rgba(60, 64, 67, 0.15);\n",
              "      fill: #174EA6;\n",
              "    }\n",
              "\n",
              "    .colab-df-buttons div {\n",
              "      margin-bottom: 4px;\n",
              "    }\n",
              "\n",
              "    [theme=dark] .colab-df-convert {\n",
              "      background-color: #3B4455;\n",
              "      fill: #D2E3FC;\n",
              "    }\n",
              "\n",
              "    [theme=dark] .colab-df-convert:hover {\n",
              "      background-color: #434B5C;\n",
              "      box-shadow: 0px 1px 3px 1px rgba(0, 0, 0, 0.15);\n",
              "      filter: drop-shadow(0px 1px 2px rgba(0, 0, 0, 0.3));\n",
              "      fill: #FFFFFF;\n",
              "    }\n",
              "  </style>\n",
              "\n",
              "    <script>\n",
              "      const buttonEl =\n",
              "        document.querySelector('#df-56e1b836-c95f-4a2d-8f57-48b1855d3cf0 button.colab-df-convert');\n",
              "      buttonEl.style.display =\n",
              "        google.colab.kernel.accessAllowed ? 'block' : 'none';\n",
              "\n",
              "      async function convertToInteractive(key) {\n",
              "        const element = document.querySelector('#df-56e1b836-c95f-4a2d-8f57-48b1855d3cf0');\n",
              "        const dataTable =\n",
              "          await google.colab.kernel.invokeFunction('convertToInteractive',\n",
              "                                                    [key], {});\n",
              "        if (!dataTable) return;\n",
              "\n",
              "        const docLinkHtml = 'Like what you see? Visit the ' +\n",
              "          '<a target=\"_blank\" href=https://colab.research.google.com/notebooks/data_table.ipynb>data table notebook</a>'\n",
              "          + ' to learn more about interactive tables.';\n",
              "        element.innerHTML = '';\n",
              "        dataTable['output_type'] = 'display_data';\n",
              "        await google.colab.output.renderOutput(dataTable, element);\n",
              "        const docLink = document.createElement('div');\n",
              "        docLink.innerHTML = docLinkHtml;\n",
              "        element.appendChild(docLink);\n",
              "      }\n",
              "    </script>\n",
              "  </div>\n",
              "\n",
              "\n",
              "<div id=\"df-4caca99b-1357-4104-b002-d9210b5caa7e\">\n",
              "  <button class=\"colab-df-quickchart\" onclick=\"quickchart('df-4caca99b-1357-4104-b002-d9210b5caa7e')\"\n",
              "            title=\"Suggest charts\"\n",
              "            style=\"display:none;\">\n",
              "\n",
              "<svg xmlns=\"http://www.w3.org/2000/svg\" height=\"24px\"viewBox=\"0 0 24 24\"\n",
              "     width=\"24px\">\n",
              "    <g>\n",
              "        <path d=\"M19 3H5c-1.1 0-2 .9-2 2v14c0 1.1.9 2 2 2h14c1.1 0 2-.9 2-2V5c0-1.1-.9-2-2-2zM9 17H7v-7h2v7zm4 0h-2V7h2v10zm4 0h-2v-4h2v4z\"/>\n",
              "    </g>\n",
              "</svg>\n",
              "  </button>\n",
              "\n",
              "<style>\n",
              "  .colab-df-quickchart {\n",
              "      --bg-color: #E8F0FE;\n",
              "      --fill-color: #1967D2;\n",
              "      --hover-bg-color: #E2EBFA;\n",
              "      --hover-fill-color: #174EA6;\n",
              "      --disabled-fill-color: #AAA;\n",
              "      --disabled-bg-color: #DDD;\n",
              "  }\n",
              "\n",
              "  [theme=dark] .colab-df-quickchart {\n",
              "      --bg-color: #3B4455;\n",
              "      --fill-color: #D2E3FC;\n",
              "      --hover-bg-color: #434B5C;\n",
              "      --hover-fill-color: #FFFFFF;\n",
              "      --disabled-bg-color: #3B4455;\n",
              "      --disabled-fill-color: #666;\n",
              "  }\n",
              "\n",
              "  .colab-df-quickchart {\n",
              "    background-color: var(--bg-color);\n",
              "    border: none;\n",
              "    border-radius: 50%;\n",
              "    cursor: pointer;\n",
              "    display: none;\n",
              "    fill: var(--fill-color);\n",
              "    height: 32px;\n",
              "    padding: 0;\n",
              "    width: 32px;\n",
              "  }\n",
              "\n",
              "  .colab-df-quickchart:hover {\n",
              "    background-color: var(--hover-bg-color);\n",
              "    box-shadow: 0 1px 2px rgba(60, 64, 67, 0.3), 0 1px 3px 1px rgba(60, 64, 67, 0.15);\n",
              "    fill: var(--button-hover-fill-color);\n",
              "  }\n",
              "\n",
              "  .colab-df-quickchart-complete:disabled,\n",
              "  .colab-df-quickchart-complete:disabled:hover {\n",
              "    background-color: var(--disabled-bg-color);\n",
              "    fill: var(--disabled-fill-color);\n",
              "    box-shadow: none;\n",
              "  }\n",
              "\n",
              "  .colab-df-spinner {\n",
              "    border: 2px solid var(--fill-color);\n",
              "    border-color: transparent;\n",
              "    border-bottom-color: var(--fill-color);\n",
              "    animation:\n",
              "      spin 1s steps(1) infinite;\n",
              "  }\n",
              "\n",
              "  @keyframes spin {\n",
              "    0% {\n",
              "      border-color: transparent;\n",
              "      border-bottom-color: var(--fill-color);\n",
              "      border-left-color: var(--fill-color);\n",
              "    }\n",
              "    20% {\n",
              "      border-color: transparent;\n",
              "      border-left-color: var(--fill-color);\n",
              "      border-top-color: var(--fill-color);\n",
              "    }\n",
              "    30% {\n",
              "      border-color: transparent;\n",
              "      border-left-color: var(--fill-color);\n",
              "      border-top-color: var(--fill-color);\n",
              "      border-right-color: var(--fill-color);\n",
              "    }\n",
              "    40% {\n",
              "      border-color: transparent;\n",
              "      border-right-color: var(--fill-color);\n",
              "      border-top-color: var(--fill-color);\n",
              "    }\n",
              "    60% {\n",
              "      border-color: transparent;\n",
              "      border-right-color: var(--fill-color);\n",
              "    }\n",
              "    80% {\n",
              "      border-color: transparent;\n",
              "      border-right-color: var(--fill-color);\n",
              "      border-bottom-color: var(--fill-color);\n",
              "    }\n",
              "    90% {\n",
              "      border-color: transparent;\n",
              "      border-bottom-color: var(--fill-color);\n",
              "    }\n",
              "  }\n",
              "</style>\n",
              "\n",
              "  <script>\n",
              "    async function quickchart(key) {\n",
              "      const quickchartButtonEl =\n",
              "        document.querySelector('#' + key + ' button');\n",
              "      quickchartButtonEl.disabled = true;  // To prevent multiple clicks.\n",
              "      quickchartButtonEl.classList.add('colab-df-spinner');\n",
              "      try {\n",
              "        const charts = await google.colab.kernel.invokeFunction(\n",
              "            'suggestCharts', [key], {});\n",
              "      } catch (error) {\n",
              "        console.error('Error during call to suggestCharts:', error);\n",
              "      }\n",
              "      quickchartButtonEl.classList.remove('colab-df-spinner');\n",
              "      quickchartButtonEl.classList.add('colab-df-quickchart-complete');\n",
              "    }\n",
              "    (() => {\n",
              "      let quickchartButtonEl =\n",
              "        document.querySelector('#df-4caca99b-1357-4104-b002-d9210b5caa7e button');\n",
              "      quickchartButtonEl.style.display =\n",
              "        google.colab.kernel.accessAllowed ? 'block' : 'none';\n",
              "    })();\n",
              "  </script>\n",
              "</div>\n",
              "\n",
              "    </div>\n",
              "  </div>\n"
            ]
          },
          "metadata": {},
          "execution_count": 2
        }
      ]
    },
    {
      "cell_type": "code",
      "source": [
        "df.shape"
      ],
      "metadata": {
        "colab": {
          "base_uri": "https://localhost:8080/"
        },
        "id": "vmiVyJ3RMh3y",
        "outputId": "b00a6a3e-8fd4-460c-e385-59b16c1e9f16"
      },
      "execution_count": null,
      "outputs": [
        {
          "output_type": "execute_result",
          "data": {
            "text/plain": [
              "(4712, 5)"
            ]
          },
          "metadata": {},
          "execution_count": 3
        }
      ]
    },
    {
      "cell_type": "code",
      "source": [
        "\n",
        "from sklearn.feature_extraction.text import CountVectorizer\n"
      ],
      "metadata": {
        "id": "5heVqgbdMi3V"
      },
      "execution_count": null,
      "outputs": []
    },
    {
      "cell_type": "code",
      "source": [
        "from sklearn.model_selection import train_test_split\n",
        "\n",
        "X_train,X_test,y_train,y_test=train_test_split(\n",
        "    df.text,\n",
        "    df.label,\n",
        "    test_size=0.2,\n",
        "    random_state=2022,\n",
        "    stratify=df.label\n",
        ")\n"
      ],
      "metadata": {
        "id": "J-jPuCSuXi92"
      },
      "execution_count": null,
      "outputs": []
    },
    {
      "cell_type": "code",
      "source": [
        "import pandas as pd\n",
        "\n",
        "# Assuming your data is stored in a DataFrame\n",
        "df = pd.concat([X_train, y_train], axis=1)\n",
        "df = df.dropna()\n",
        "\n",
        "X_train = df.drop('label', axis=1)\n",
        "y_train = df['label']\n"
      ],
      "metadata": {
        "id": "a-IhsqGBYALt"
      },
      "execution_count": null,
      "outputs": []
    },
    {
      "cell_type": "code",
      "source": [
        "\n",
        "from sklearn.model_selection import train_test_split\n",
        "X_train,X_test,y_train,y_test=train_test_split(\n",
        "    df.text,\n",
        "    df.label,\n",
        "    test_size=0.2,\n",
        "    random_state=2022,\n",
        "    stratify=df.label\n",
        ")"
      ],
      "metadata": {
        "id": "1Owp4JE_Xwgt"
      },
      "execution_count": null,
      "outputs": []
    },
    {
      "cell_type": "code",
      "source": [
        "# multinomial naive bayes using ngrams (1,2) without preprocessing and with augmentation\n",
        "from sklearn.naive_bayes import MultinomialNB\n",
        "from sklearn.pipeline import Pipeline\n",
        "from sklearn.metrics import classification_report\n",
        "\n",
        "clf=Pipeline([\n",
        "    ('vectorizer_bow',CountVectorizer(ngram_range=(1,2))),\n",
        "    ('Multi NB',MultinomialNB())\n",
        "\n",
        "])\n",
        "clf.fit(X_train,y_train)\n",
        "y_pred=clf.predict(X_test)\n",
        "print(classification_report(y_test,y_pred))"
      ],
      "metadata": {
        "colab": {
          "base_uri": "https://localhost:8080/"
        },
        "id": "cnE04XLzXx3S",
        "outputId": "0d773527-2b82-42c9-ecd3-4a2e25a3314c"
      },
      "execution_count": null,
      "outputs": [
        {
          "output_type": "stream",
          "name": "stdout",
          "text": [
            "              precision    recall  f1-score   support\n",
            "\n",
            "           0       0.97      0.87      0.92       377\n",
            "           1       0.88      0.98      0.93       377\n",
            "\n",
            "    accuracy                           0.92       754\n",
            "   macro avg       0.93      0.92      0.92       754\n",
            "weighted avg       0.93      0.92      0.92       754\n",
            "\n"
          ]
        }
      ]
    },
    {
      "cell_type": "code",
      "source": [
        "# multinomial naive bayes using ngrams (1,3) without preprocessing and with aug\n",
        "\n",
        "from sklearn.naive_bayes import MultinomialNB\n",
        "from sklearn.pipeline import Pipeline\n",
        "from sklearn.metrics import classification_report\n",
        "\n",
        "clf=Pipeline([\n",
        "    ('vectorizer_bow',CountVectorizer(ngram_range=(1,3))),\n",
        "    ('Multi NB',MultinomialNB())\n",
        "\n",
        "])\n",
        "clf.fit(X_train,y_train)\n",
        "y_pred=clf.predict(X_test)\n",
        "print(classification_report(y_test,y_pred))"
      ],
      "metadata": {
        "colab": {
          "base_uri": "https://localhost:8080/"
        },
        "id": "QhWGpHUUX1QA",
        "outputId": "afbcd545-86b2-48cf-ed09-df315ba1ddd7"
      },
      "execution_count": null,
      "outputs": [
        {
          "output_type": "stream",
          "name": "stdout",
          "text": [
            "              precision    recall  f1-score   support\n",
            "\n",
            "           0       0.97      0.87      0.92       377\n",
            "           1       0.88      0.98      0.93       377\n",
            "\n",
            "    accuracy                           0.92       754\n",
            "   macro avg       0.93      0.92      0.92       754\n",
            "weighted avg       0.93      0.92      0.92       754\n",
            "\n"
          ]
        }
      ]
    },
    {
      "cell_type": "code",
      "source": [
        "# multinomial naive bayes using ngrams (2,3) without preprocessing and with aug\n",
        "from sklearn.naive_bayes import MultinomialNB\n",
        "from sklearn.pipeline import Pipeline\n",
        "from sklearn.metrics import classification_report\n",
        "\n",
        "clf=Pipeline([\n",
        "    ('vectorizer_bow',CountVectorizer(ngram_range=(2,3))),\n",
        "    ('Multi NB',MultinomialNB())\n",
        "\n",
        "])\n",
        "clf.fit(X_train,y_train)\n",
        "y_pred=clf.predict(X_test)\n",
        "print(classification_report(y_test,y_pred))"
      ],
      "metadata": {
        "colab": {
          "base_uri": "https://localhost:8080/"
        },
        "id": "Uo9jEhhNYX1w",
        "outputId": "2bfc5e32-5261-4fd6-a2d2-fb8fbf72a1e8"
      },
      "execution_count": null,
      "outputs": [
        {
          "output_type": "stream",
          "name": "stdout",
          "text": [
            "              precision    recall  f1-score   support\n",
            "\n",
            "           0       0.86      0.96      0.91       377\n",
            "           1       0.95      0.84      0.89       377\n",
            "\n",
            "    accuracy                           0.90       754\n",
            "   macro avg       0.91      0.90      0.90       754\n",
            "weighted avg       0.91      0.90      0.90       754\n",
            "\n"
          ]
        }
      ]
    },
    {
      "cell_type": "code",
      "source": [
        "# bernoulli naive bayes using ngrams (1,2) without preprocessing and with augmentation\n",
        "from sklearn.naive_bayes import MultinomialNB\n",
        "from sklearn.naive_bayes import BernoulliNB\n",
        "from sklearn.pipeline import Pipeline\n",
        "from sklearn.metrics import classification_report\n",
        "\n",
        "clf=Pipeline([\n",
        "    ('vectorizer_bow',CountVectorizer(ngram_range=(1,2))),\n",
        "    ('Multi NB',BernoulliNB())\n",
        "\n",
        "])\n",
        "clf.fit(X_train,y_train)\n",
        "y_pred=clf.predict(X_test)\n",
        "print(classification_report(y_test,y_pred))"
      ],
      "metadata": {
        "colab": {
          "base_uri": "https://localhost:8080/"
        },
        "id": "3wjabogiYcD8",
        "outputId": "b2798847-8f10-454a-841d-f6d37be2d900"
      },
      "execution_count": null,
      "outputs": [
        {
          "output_type": "stream",
          "name": "stdout",
          "text": [
            "              precision    recall  f1-score   support\n",
            "\n",
            "           0       0.89      0.99      0.94       377\n",
            "           1       0.99      0.88      0.93       377\n",
            "\n",
            "    accuracy                           0.94       754\n",
            "   macro avg       0.94      0.94      0.94       754\n",
            "weighted avg       0.94      0.94      0.94       754\n",
            "\n"
          ]
        }
      ]
    },
    {
      "cell_type": "code",
      "source": [
        "# bernoulli naive bayes using ngrams (1,3) without preprocessing and with augmentation\n",
        "from sklearn.naive_bayes import MultinomialNB\n",
        "from sklearn.naive_bayes import BernoulliNB\n",
        "from sklearn.pipeline import Pipeline\n",
        "from sklearn.metrics import classification_report\n",
        "\n",
        "clf=Pipeline([\n",
        "    ('vectorizer_bow',CountVectorizer(ngram_range=(1,3))),\n",
        "    ('Multi NB',BernoulliNB())\n",
        "\n",
        "])\n",
        "clf.fit(X_train,y_train)\n",
        "y_pred=clf.predict(X_test)\n",
        "print(classification_report(y_test,y_pred))"
      ],
      "metadata": {
        "colab": {
          "base_uri": "https://localhost:8080/"
        },
        "id": "vHcR6hGhYgrq",
        "outputId": "fdcf49f9-bd3a-4a2b-e0b6-d2983a1fed6e"
      },
      "execution_count": null,
      "outputs": [
        {
          "output_type": "stream",
          "name": "stdout",
          "text": [
            "              precision    recall  f1-score   support\n",
            "\n",
            "           0       0.83      1.00      0.90       377\n",
            "           1       1.00      0.79      0.88       377\n",
            "\n",
            "    accuracy                           0.90       754\n",
            "   macro avg       0.91      0.90      0.89       754\n",
            "weighted avg       0.91      0.90      0.89       754\n",
            "\n"
          ]
        }
      ]
    },
    {
      "cell_type": "code",
      "source": [
        "# bernoulli naive bayes using ngrams (2,3) without preprocessing and with augmentation\n",
        "from sklearn.naive_bayes import MultinomialNB\n",
        "from sklearn.naive_bayes import BernoulliNB\n",
        "from sklearn.pipeline import Pipeline\n",
        "from sklearn.metrics import classification_report\n",
        "\n",
        "clf=Pipeline([\n",
        "    ('vectorizer_bow',CountVectorizer(ngram_range=(2,3))),\n",
        "    ('Multi NB',BernoulliNB())\n",
        "\n",
        "])\n",
        "clf.fit(X_train,y_train)\n",
        "y_pred=clf.predict(X_test)\n",
        "print(classification_report(y_test,y_pred))"
      ],
      "metadata": {
        "colab": {
          "base_uri": "https://localhost:8080/"
        },
        "id": "IMrOpSY_Yk53",
        "outputId": "24db23d6-7275-4b71-8d80-ad97f8892cab"
      },
      "execution_count": null,
      "outputs": [
        {
          "output_type": "stream",
          "name": "stdout",
          "text": [
            "              precision    recall  f1-score   support\n",
            "\n",
            "           0       0.65      1.00      0.79       377\n",
            "           1       1.00      0.47      0.64       377\n",
            "\n",
            "    accuracy                           0.73       754\n",
            "   macro avg       0.83      0.73      0.71       754\n",
            "weighted avg       0.83      0.73      0.71       754\n",
            "\n"
          ]
        }
      ]
    },
    {
      "cell_type": "code",
      "source": [
        "# gaussian naive bayes using ngrams (1,2) without preprocessing and with augmentation\n",
        "from sklearn.feature_extraction.text import CountVectorizer\n",
        "from sklearn.naive_bayes import GaussianNB\n",
        "from sklearn.metrics import classification_report\n",
        "from sklearn.model_selection import train_test_split\n",
        "\n",
        "# Assuming X_train is a Pandas Series containing text data and y_train is the corresponding labels\n",
        "# Split the data into training and testing sets\n",
        "X_train, X_test, y_train, y_test = train_test_split(X_train, y_train, test_size=0.2, random_state=42)\n",
        "\n",
        "# Create a CountVectorizer with bag of n-grams\n",
        "ngram_range = (1, 2)  # Adjust the n-gram range as needed\n",
        "vectorizer = CountVectorizer(ngram_range=ngram_range)\n",
        "\n",
        "# Fit and transform the training data\n",
        "X_train_count = vectorizer.fit_transform(X_train)\n",
        "\n",
        "# Create and fit the Gaussian Naive Bayes classifier\n",
        "gnb = GaussianNB()\n",
        "gnb.fit(X_train_count.toarray(), y_train)  # Note the toarray() to convert sparse matrix to dense array\n",
        "\n",
        "# Transform the test data using the same vectorizer\n",
        "X_test_count = vectorizer.transform(X_test)\n",
        "\n",
        "# Make predictions on test data\n",
        "y_pred = gnb.predict(X_test_count.toarray())  # Note the toarray() here as well\n",
        "\n",
        "# Display classification report\n",
        "print(classification_report(y_test, y_pred))\n"
      ],
      "metadata": {
        "colab": {
          "base_uri": "https://localhost:8080/"
        },
        "id": "2bFmmsjfYrlX",
        "outputId": "86de762d-6b68-4daf-a177-004ea7fcb8ea"
      },
      "execution_count": null,
      "outputs": [
        {
          "output_type": "stream",
          "name": "stdout",
          "text": [
            "              precision    recall  f1-score   support\n",
            "\n",
            "           0       0.84      0.92      0.88       298\n",
            "           1       0.92      0.83      0.87       305\n",
            "\n",
            "    accuracy                           0.88       603\n",
            "   macro avg       0.88      0.88      0.88       603\n",
            "weighted avg       0.88      0.88      0.88       603\n",
            "\n"
          ]
        }
      ]
    },
    {
      "cell_type": "code",
      "source": [
        "# gaussian naive bayes using ngrams (2,3) without preprocessing and with augmentation\n",
        "from sklearn.feature_extraction.text import CountVectorizer\n",
        "from sklearn.naive_bayes import GaussianNB\n",
        "from sklearn.metrics import classification_report\n",
        "from sklearn.model_selection import train_test_split\n",
        "\n",
        "# Assuming X_train is a Pandas Series containing text data and y_train is the corresponding labels\n",
        "# Split the data into training and testing sets\n",
        "X_train, X_test, y_train, y_test = train_test_split(X_train, y_train, test_size=0.2, random_state=42)\n",
        "\n",
        "# Create a CountVectorizer with bag of n-grams\n",
        "ngram_range = (1, 2)  # Adjust the n-gram range as needed\n",
        "vectorizer = CountVectorizer(ngram_range=ngram_range)\n",
        "\n",
        "# Fit and transform the training data\n",
        "X_train_count = vectorizer.fit_transform(X_train)\n",
        "\n",
        "# Create and fit the Gaussian Naive Bayes classifier\n",
        "gnb = GaussianNB()\n",
        "gnb.fit(X_train_count.toarray(), y_train)  # Note the toarray() to convert sparse matrix to dense array\n",
        "\n",
        "# Transform the test data using the same vectorizer\n",
        "X_test_count = vectorizer.transform(X_test)\n",
        "\n",
        "# Make predictions on test data\n",
        "y_pred = gnb.predict(X_test_count.toarray())  # Note the toarray() here as well\n",
        "\n",
        "# Display classification report\n",
        "print(classification_report(y_test, y_pred))\n"
      ],
      "metadata": {
        "colab": {
          "base_uri": "https://localhost:8080/"
        },
        "id": "btEFP14SYvLz",
        "outputId": "29c44b50-b4db-47ab-9c56-b0ed23d089e9"
      },
      "execution_count": null,
      "outputs": [
        {
          "output_type": "stream",
          "name": "stdout",
          "text": [
            "              precision    recall  f1-score   support\n",
            "\n",
            "           0       0.84      0.88      0.86       244\n",
            "           1       0.87      0.82      0.85       239\n",
            "\n",
            "    accuracy                           0.85       483\n",
            "   macro avg       0.85      0.85      0.85       483\n",
            "weighted avg       0.85      0.85      0.85       483\n",
            "\n"
          ]
        }
      ]
    },
    {
      "cell_type": "code",
      "source": [
        "# gaussian naive bayes using ngrams (1,3) without preprocessing and with augmentation\n",
        "from sklearn.feature_extraction.text import CountVectorizer\n",
        "from sklearn.naive_bayes import GaussianNB\n",
        "from sklearn.metrics import classification_report\n",
        "from sklearn.model_selection import train_test_split\n",
        "\n",
        "# Assuming X_train is a Pandas Series containing text data and y_train is the corresponding labels\n",
        "# Split the data into training and testing sets\n",
        "X_train, X_test, y_train, y_test = train_test_split(X_train, y_train, test_size=0.2, random_state=42)\n",
        "\n",
        "# Create a CountVectorizer with bag of n-grams\n",
        "ngram_range = (1, 3)  # Adjust the n-gram range as needed\n",
        "vectorizer = CountVectorizer(ngram_range=ngram_range)\n",
        "\n",
        "# Fit and transform the training data\n",
        "X_train_count = vectorizer.fit_transform(X_train)\n",
        "\n",
        "# Create and fit the Gaussian Naive Bayes classifier\n",
        "gnb = GaussianNB()\n",
        "gnb.fit(X_train_count.toarray(), y_train)  # Note the toarray() to convert sparse matrix to dense array\n",
        "\n",
        "# Transform the test data using the same vectorizer\n",
        "X_test_count = vectorizer.transform(X_test)\n",
        "\n",
        "# Make predictions on test data\n",
        "y_pred = gnb.predict(X_test_count.toarray())  # Note the toarray() here as well\n",
        "\n",
        "# Display classification report\n",
        "print(classification_report(y_test, y_pred))\n"
      ],
      "metadata": {
        "colab": {
          "base_uri": "https://localhost:8080/"
        },
        "id": "wLv6a_FxYy6E",
        "outputId": "f1115987-4ff4-4e71-ba2e-257237c56b33"
      },
      "execution_count": null,
      "outputs": [
        {
          "output_type": "stream",
          "name": "stdout",
          "text": [
            "              precision    recall  f1-score   support\n",
            "\n",
            "           0       0.86      0.91      0.89       197\n",
            "           1       0.90      0.85      0.87       189\n",
            "\n",
            "    accuracy                           0.88       386\n",
            "   macro avg       0.88      0.88      0.88       386\n",
            "weighted avg       0.88      0.88      0.88       386\n",
            "\n"
          ]
        }
      ]
    },
    {
      "cell_type": "code",
      "source": [
        "# preprocessing means removing stop words and doing lemmatization\n",
        "import spacy\n",
        "nlp=spacy.load(\"en_core_web_sm\")\n",
        "def preprocess(text):\n",
        "    doc=nlp(text)\n",
        "    filtered_token=[]\n",
        "    for token in doc:\n",
        "      if token.is_stop or token.is_punct:\n",
        "        continue\n",
        "      filtered_token.append(token.lemma_)\n",
        "    return \" \".join(filtered_token)"
      ],
      "metadata": {
        "id": "DxGFvBStY2hN"
      },
      "execution_count": null,
      "outputs": []
    },
    {
      "cell_type": "code",
      "source": [
        "df['pre_text']=df.text.apply(preprocess)"
      ],
      "metadata": {
        "id": "oWp1MLDMZnMZ"
      },
      "execution_count": null,
      "outputs": []
    },
    {
      "cell_type": "code",
      "source": [
        "from sklearn.model_selection import train_test_split\n",
        "\n",
        "X_train,X_test,y_train,y_test=train_test_split(\n",
        "    df.pre_text,\n",
        "    df.label,\n",
        "    test_size=0.2,\n",
        "    random_state=2022,\n",
        "    stratify=df.label\n",
        ")\n"
      ],
      "metadata": {
        "id": "tkKsVYmBZwV9"
      },
      "execution_count": null,
      "outputs": []
    },
    {
      "cell_type": "code",
      "source": [
        "# multinomial naive bayes using ngrams (1,2) with preprocessing and with augmentation\n",
        "from sklearn.naive_bayes import MultinomialNB\n",
        "from sklearn.pipeline import Pipeline\n",
        "from sklearn.metrics import classification_report\n",
        "\n",
        "clf=Pipeline([\n",
        "    ('vectorizer_bow',CountVectorizer(ngram_range=(1,2))),\n",
        "    ('Multi NB',MultinomialNB())\n",
        "\n",
        "])\n",
        "clf.fit(X_train,y_train)\n",
        "y_pred=clf.predict(X_test)\n",
        "print(classification_report(y_test,y_pred))"
      ],
      "metadata": {
        "colab": {
          "base_uri": "https://localhost:8080/"
        },
        "id": "7cax4otNZ-Kt",
        "outputId": "9cb635e7-8da4-455e-c31b-7eac34a11015"
      },
      "execution_count": null,
      "outputs": [
        {
          "output_type": "stream",
          "name": "stdout",
          "text": [
            "              precision    recall  f1-score   support\n",
            "\n",
            "           0       0.96      0.85      0.90       377\n",
            "           1       0.87      0.97      0.91       377\n",
            "\n",
            "    accuracy                           0.91       754\n",
            "   macro avg       0.91      0.91      0.91       754\n",
            "weighted avg       0.91      0.91      0.91       754\n",
            "\n"
          ]
        }
      ]
    },
    {
      "cell_type": "code",
      "source": [
        "# multinomial naive bayes using ngrams (1,3) with preprocessing and with augmentation\n",
        "from sklearn.naive_bayes import MultinomialNB\n",
        "from sklearn.pipeline import Pipeline\n",
        "from sklearn.metrics import classification_report\n",
        "\n",
        "clf=Pipeline([\n",
        "    ('vectorizer_bow',CountVectorizer(ngram_range=(1,3))),\n",
        "    ('Multi NB',MultinomialNB())\n",
        "\n",
        "])\n",
        "clf.fit(X_train,y_train)\n",
        "y_pred=clf.predict(X_test)\n",
        "print(classification_report(y_test,y_pred))"
      ],
      "metadata": {
        "colab": {
          "base_uri": "https://localhost:8080/"
        },
        "id": "DHvZdiZWaBuT",
        "outputId": "47f45df8-4ee1-4b4d-d961-0afef032dd64"
      },
      "execution_count": null,
      "outputs": [
        {
          "output_type": "stream",
          "name": "stdout",
          "text": [
            "              precision    recall  f1-score   support\n",
            "\n",
            "           0       0.96      0.85      0.90       377\n",
            "           1       0.87      0.97      0.91       377\n",
            "\n",
            "    accuracy                           0.91       754\n",
            "   macro avg       0.91      0.91      0.91       754\n",
            "weighted avg       0.91      0.91      0.91       754\n",
            "\n"
          ]
        }
      ]
    },
    {
      "cell_type": "code",
      "source": [
        "# multinomial naive bayes using ngrams (2,3) with preprocessing and with augmentation\n",
        "from sklearn.naive_bayes import MultinomialNB\n",
        "from sklearn.pipeline import Pipeline\n",
        "from sklearn.metrics import classification_report\n",
        "\n",
        "clf=Pipeline([\n",
        "    ('vectorizer_bow',CountVectorizer(ngram_range=(2,3))),\n",
        "    ('Multi NB',MultinomialNB())\n",
        "\n",
        "])\n",
        "clf.fit(X_train,y_train)\n",
        "y_pred=clf.predict(X_test)\n",
        "print(classification_report(y_test,y_pred))"
      ],
      "metadata": {
        "colab": {
          "base_uri": "https://localhost:8080/"
        },
        "id": "3yp7kYQSaEzp",
        "outputId": "17190b60-42f5-49bc-d021-06d26b6e23e0"
      },
      "execution_count": null,
      "outputs": [
        {
          "output_type": "stream",
          "name": "stdout",
          "text": [
            "              precision    recall  f1-score   support\n",
            "\n",
            "           0       0.75      0.99      0.85       377\n",
            "           1       0.98      0.67      0.79       377\n",
            "\n",
            "    accuracy                           0.83       754\n",
            "   macro avg       0.86      0.83      0.82       754\n",
            "weighted avg       0.86      0.83      0.82       754\n",
            "\n"
          ]
        }
      ]
    },
    {
      "cell_type": "code",
      "source": [
        "# bernoulli naive bayes using ngrams (1,2) with preprocessing and with augmentation\n",
        "from sklearn.naive_bayes import MultinomialNB\n",
        "from sklearn.naive_bayes import BernoulliNB\n",
        "from sklearn.pipeline import Pipeline\n",
        "from sklearn.metrics import classification_report\n",
        "\n",
        "clf=Pipeline([\n",
        "    ('vectorizer_bow',CountVectorizer(ngram_range=(1,2))),\n",
        "    ('Multi NB',BernoulliNB())\n",
        "\n",
        "])\n",
        "clf.fit(X_train,y_train)\n",
        "y_pred=clf.predict(X_test)\n",
        "print(classification_report(y_test,y_pred))"
      ],
      "metadata": {
        "colab": {
          "base_uri": "https://localhost:8080/"
        },
        "id": "-d76YvvDaJQa",
        "outputId": "db18f548-d697-4e3f-8d60-7b7bd349b90d"
      },
      "execution_count": null,
      "outputs": [
        {
          "output_type": "stream",
          "name": "stdout",
          "text": [
            "              precision    recall  f1-score   support\n",
            "\n",
            "           0       0.88      0.98      0.93       377\n",
            "           1       0.98      0.86      0.92       377\n",
            "\n",
            "    accuracy                           0.92       754\n",
            "   macro avg       0.93      0.92      0.92       754\n",
            "weighted avg       0.93      0.92      0.92       754\n",
            "\n"
          ]
        }
      ]
    },
    {
      "cell_type": "code",
      "source": [
        "# bernoulli naive bayes using ngrams (1,3) with preprocessing and with augmentation\n",
        "from sklearn.naive_bayes import MultinomialNB\n",
        "from sklearn.naive_bayes import BernoulliNB\n",
        "from sklearn.pipeline import Pipeline\n",
        "from sklearn.metrics import classification_report\n",
        "\n",
        "clf=Pipeline([\n",
        "    ('vectorizer_bow',CountVectorizer(ngram_range=(1,3))),\n",
        "    ('Multi NB',BernoulliNB())\n",
        "\n",
        "])\n",
        "clf.fit(X_train,y_train)\n",
        "y_pred=clf.predict(X_test)\n",
        "print(classification_report(y_test,y_pred))"
      ],
      "metadata": {
        "colab": {
          "base_uri": "https://localhost:8080/"
        },
        "id": "n-YD5IwZaqcU",
        "outputId": "41bd3362-819d-41ca-f962-5f27a4c491ee"
      },
      "execution_count": null,
      "outputs": [
        {
          "output_type": "stream",
          "name": "stdout",
          "text": [
            "              precision    recall  f1-score   support\n",
            "\n",
            "           0       0.83      0.99      0.90       377\n",
            "           1       0.99      0.79      0.88       377\n",
            "\n",
            "    accuracy                           0.89       754\n",
            "   macro avg       0.91      0.89      0.89       754\n",
            "weighted avg       0.91      0.89      0.89       754\n",
            "\n"
          ]
        }
      ]
    },
    {
      "cell_type": "code",
      "source": [
        "# bernoulli naive bayes using ngrams (2,3) with preprocessing and with augmentation\n",
        "from sklearn.naive_bayes import MultinomialNB\n",
        "from sklearn.naive_bayes import BernoulliNB\n",
        "from sklearn.pipeline import Pipeline\n",
        "from sklearn.metrics import classification_report\n",
        "\n",
        "clf=Pipeline([\n",
        "    ('vectorizer_bow',CountVectorizer(ngram_range=(2,3))),\n",
        "    ('Multi NB',BernoulliNB())\n",
        "\n",
        "])\n",
        "clf.fit(X_train,y_train)\n",
        "y_pred=clf.predict(X_test)\n",
        "print(classification_report(y_test,y_pred))"
      ],
      "metadata": {
        "colab": {
          "base_uri": "https://localhost:8080/"
        },
        "id": "eX4TJlX-au_j",
        "outputId": "9bed976f-cbd9-405d-cfff-843f3e75e861"
      },
      "execution_count": null,
      "outputs": [
        {
          "output_type": "stream",
          "name": "stdout",
          "text": [
            "              precision    recall  f1-score   support\n",
            "\n",
            "           0       0.62      1.00      0.77       377\n",
            "           1       1.00      0.40      0.57       377\n",
            "\n",
            "    accuracy                           0.70       754\n",
            "   macro avg       0.81      0.70      0.67       754\n",
            "weighted avg       0.81      0.70      0.67       754\n",
            "\n"
          ]
        }
      ]
    },
    {
      "cell_type": "code",
      "source": [
        "# gaussian naive bayes using ngrams (1,2) with preprocessing and with augmentation\n",
        "from sklearn.feature_extraction.text import CountVectorizer\n",
        "from sklearn.naive_bayes import GaussianNB\n",
        "from sklearn.metrics import classification_report\n",
        "from sklearn.model_selection import train_test_split\n",
        "\n",
        "# Assuming X_train is a Pandas Series containing text data and y_train is the corresponding labels\n",
        "# Split the data into training and testing sets\n",
        "X_train, X_test, y_train, y_test = train_test_split(X_train, y_train, test_size=0.2, random_state=42)\n",
        "\n",
        "# Create a CountVectorizer with bag of n-grams\n",
        "ngram_range = (1, 2)  # Adjust the n-gram range as needed\n",
        "vectorizer = CountVectorizer(ngram_range=ngram_range)\n",
        "\n",
        "# Fit and transform the training data\n",
        "X_train_count = vectorizer.fit_transform(X_train)\n",
        "\n",
        "# Create and fit the Gaussian Naive Bayes classifier\n",
        "gnb = GaussianNB()\n",
        "gnb.fit(X_train_count.toarray(), y_train)  # Note the toarray() to convert sparse matrix to dense array\n",
        "\n",
        "# Transform the test data using the same vectorizer\n",
        "X_test_count = vectorizer.transform(X_test)\n",
        "\n",
        "# Make predictions on test data\n",
        "y_pred = gnb.predict(X_test_count.toarray())  # Note the toarray() here as well\n",
        "\n",
        "# Display classification report\n",
        "print(classification_report(y_test, y_pred))\n"
      ],
      "metadata": {
        "colab": {
          "base_uri": "https://localhost:8080/"
        },
        "id": "1WscNW7OaxsJ",
        "outputId": "8c04dcc0-4502-41f5-ee73-255c1e7b4ff2"
      },
      "execution_count": null,
      "outputs": [
        {
          "output_type": "stream",
          "name": "stdout",
          "text": [
            "              precision    recall  f1-score   support\n",
            "\n",
            "           0       0.78      0.94      0.85       298\n",
            "           1       0.92      0.74      0.82       305\n",
            "\n",
            "    accuracy                           0.84       603\n",
            "   macro avg       0.85      0.84      0.84       603\n",
            "weighted avg       0.85      0.84      0.84       603\n",
            "\n"
          ]
        }
      ]
    },
    {
      "cell_type": "code",
      "source": [
        "# gaussian naive bayes using ngrams (1,3) with preprocessing and with augmentation\n",
        "from sklearn.feature_extraction.text import CountVectorizer\n",
        "from sklearn.naive_bayes import GaussianNB\n",
        "from sklearn.metrics import classification_report\n",
        "from sklearn.model_selection import train_test_split\n",
        "\n",
        "# Assuming X_train is a Pandas Series containing text data and y_train is the corresponding labels\n",
        "# Split the data into training and testing sets\n",
        "X_train, X_test, y_train, y_test = train_test_split(X_train, y_train, test_size=0.2, random_state=42)\n",
        "\n",
        "# Create a CountVectorizer with bag of n-grams\n",
        "ngram_range = (1, 3)  # Adjust the n-gram range as needed\n",
        "vectorizer = CountVectorizer(ngram_range=ngram_range)\n",
        "\n",
        "# Fit and transform the training data\n",
        "X_train_count = vectorizer.fit_transform(X_train)\n",
        "\n",
        "# Create and fit the Gaussian Naive Bayes classifier\n",
        "gnb = GaussianNB()\n",
        "gnb.fit(X_train_count.toarray(), y_train)  # Note the toarray() to convert sparse matrix to dense array\n",
        "\n",
        "# Transform the test data using the same vectorizer\n",
        "X_test_count = vectorizer.transform(X_test)\n",
        "\n",
        "# Make predictions on test data\n",
        "y_pred = gnb.predict(X_test_count.toarray())  # Note the toarray() here as well\n",
        "\n",
        "# Display classification report\n",
        "print(classification_report(y_test, y_pred))\n"
      ],
      "metadata": {
        "colab": {
          "base_uri": "https://localhost:8080/"
        },
        "id": "6YmMUDMOa1J8",
        "outputId": "6458b2d7-bd35-401c-b93c-30d5e8192283"
      },
      "execution_count": null,
      "outputs": [
        {
          "output_type": "stream",
          "name": "stdout",
          "text": [
            "              precision    recall  f1-score   support\n",
            "\n",
            "           0       0.77      0.90      0.83       244\n",
            "           1       0.88      0.72      0.79       239\n",
            "\n",
            "    accuracy                           0.81       483\n",
            "   macro avg       0.82      0.81      0.81       483\n",
            "weighted avg       0.82      0.81      0.81       483\n",
            "\n"
          ]
        }
      ]
    },
    {
      "cell_type": "code",
      "source": [
        "# gaussian naive bayes using ngrams (2,3) with preprocessing and with augmentation\n",
        "from sklearn.feature_extraction.text import CountVectorizer\n",
        "from sklearn.naive_bayes import GaussianNB\n",
        "from sklearn.metrics import classification_report\n",
        "from sklearn.model_selection import train_test_split\n",
        "\n",
        "# Assuming X_train is a Pandas Series containing text data and y_train is the corresponding labels\n",
        "# Split the data into training and testing sets\n",
        "X_train, X_test, y_train, y_test = train_test_split(X_train, y_train, test_size=0.2, random_state=42)\n",
        "\n",
        "# Create a CountVectorizer with bag of n-grams\n",
        "ngram_range = (2, 3)  # Adjust the n-gram range as needed\n",
        "vectorizer = CountVectorizer(ngram_range=ngram_range)\n",
        "\n",
        "# Fit and transform the training data\n",
        "X_train_count = vectorizer.fit_transform(X_train)\n",
        "\n",
        "# Create and fit the Gaussian Naive Bayes classifier\n",
        "gnb = GaussianNB()\n",
        "gnb.fit(X_train_count.toarray(), y_train)  # Note the toarray() to convert sparse matrix to dense array\n",
        "\n",
        "# Transform the test data using the same vectorizer\n",
        "X_test_count = vectorizer.transform(X_test)\n",
        "\n",
        "# Make predictions on test data\n",
        "y_pred = gnb.predict(X_test_count.toarray())  # Note the toarray() here as well\n",
        "\n",
        "# Display classification report\n",
        "print(classification_report(y_test, y_pred))\n"
      ],
      "metadata": {
        "colab": {
          "base_uri": "https://localhost:8080/"
        },
        "id": "UyjJuTora4Vw",
        "outputId": "c55f83ae-05c1-49ec-9e78-758667d996bd"
      },
      "execution_count": null,
      "outputs": [
        {
          "output_type": "stream",
          "name": "stdout",
          "text": [
            "              precision    recall  f1-score   support\n",
            "\n",
            "           0       0.69      0.98      0.81       197\n",
            "           1       0.97      0.54      0.69       189\n",
            "\n",
            "    accuracy                           0.77       386\n",
            "   macro avg       0.83      0.76      0.75       386\n",
            "weighted avg       0.83      0.77      0.75       386\n",
            "\n"
          ]
        }
      ]
    },
    {
      "cell_type": "code",
      "source": [],
      "metadata": {
        "id": "lrKJJOYta9eh"
      },
      "execution_count": null,
      "outputs": []
    }
  ]
}